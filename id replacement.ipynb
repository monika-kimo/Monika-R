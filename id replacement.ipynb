{
 "cells": [
  {
   "cell_type": "code",
   "id": "initial_id",
   "metadata": {
    "collapsed": true,
    "ExecuteTime": {
     "end_time": "2025-07-17T05:16:55.832373Z",
     "start_time": "2025-07-17T05:16:55.824742Z"
    }
   },
   "source": "import numpy as np",
   "outputs": [],
   "execution_count": 2
  },
  {
   "metadata": {
    "ExecuteTime": {
     "end_time": "2025-07-17T05:17:15.663285Z",
     "start_time": "2025-07-17T05:17:15.658422Z"
    }
   },
   "cell_type": "code",
   "source": [
    "def mark_duplicates(ids):\n",
    "    seen = set()\n",
    "    result = []\n",
    "    for id in ids:\n",
    "        if id in seen:\n",
    "            result.append(True)\n",
    "        else:\n",
    "            seen.add(id)\n",
    "            result.append(False)\n",
    "    return np.array(result)"
   ],
   "id": "39cffe1f2528f946",
   "outputs": [],
   "execution_count": 3
  },
  {
   "metadata": {
    "ExecuteTime": {
     "end_time": "2025-07-17T05:17:40.951491Z",
     "start_time": "2025-07-17T05:17:32.966373Z"
    }
   },
   "cell_type": "code",
   "source": "t = int(input(\"Enter number of test cases: \"))",
   "id": "67fef2f2118f9e6a",
   "outputs": [],
   "execution_count": 4
  },
  {
   "metadata": {
    "ExecuteTime": {
     "end_time": "2025-07-17T05:19:06.677342Z",
     "start_time": "2025-07-17T05:18:18.147552Z"
    }
   },
   "cell_type": "code",
   "source": [
    "for _ in range(t):\n",
    "    input_str = input(\"Enter the student IDs separated by space: \")\n",
    "    ids = np.array(list(map(int, input_str.strip().split())))"
   ],
   "id": "1719012b4f35b33",
   "outputs": [],
   "execution_count": 5
  },
  {
   "metadata": {
    "ExecuteTime": {
     "end_time": "2025-07-17T05:19:25.312928Z",
     "start_time": "2025-07-17T05:19:25.307962Z"
    }
   },
   "cell_type": "code",
   "source": "print(mark_duplicates(ids))",
   "id": "deafbe832f4dad79",
   "outputs": [
    {
     "name": "stdout",
     "output_type": "stream",
     "text": [
      "[False  True False  True False False  True  True  True  True]\n"
     ]
    }
   ],
   "execution_count": 6
  }
 ],
 "metadata": {
  "kernelspec": {
   "display_name": "Python 3",
   "language": "python",
   "name": "python3"
  },
  "language_info": {
   "codemirror_mode": {
    "name": "ipython",
    "version": 2
   },
   "file_extension": ".py",
   "mimetype": "text/x-python",
   "name": "python",
   "nbconvert_exporter": "python",
   "pygments_lexer": "ipython2",
   "version": "2.7.6"
  }
 },
 "nbformat": 4,
 "nbformat_minor": 5
}
