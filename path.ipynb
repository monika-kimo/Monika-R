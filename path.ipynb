{
 "cells": [
  {
   "cell_type": "code",
   "id": "initial_id",
   "metadata": {
    "collapsed": true,
    "ExecuteTime": {
     "end_time": "2025-07-16T10:53:30.630442Z",
     "start_time": "2025-07-16T10:53:30.626250Z"
    }
   },
   "source": "import os",
   "outputs": [],
   "execution_count": 1
  },
  {
   "metadata": {
    "ExecuteTime": {
     "end_time": "2025-07-16T10:54:08.430195Z",
     "start_time": "2025-07-16T10:54:08.427051Z"
    }
   },
   "cell_type": "code",
   "source": "import shutil",
   "id": "909ef85f4895c0c4",
   "outputs": [],
   "execution_count": 2
  },
  {
   "metadata": {
    "ExecuteTime": {
     "end_time": "2025-07-16T10:58:28.093088Z",
     "start_time": "2025-07-16T10:58:28.087263Z"
    }
   },
   "cell_type": "code",
   "source": [
    "def organize_files(folder_path):\n",
    "    for filename in os.listdir(folder_path):\n",
    "        file_path = os.path.join(folder_path, filename)\n",
    "        if os.path.isfile(file_path):\n",
    "            _, ext = os.path.splitext(filename)\n",
    "            ext = ext[1:].upper()\n",
    "            if not ext:\n",
    "                continue\n",
    "            dest_folder = os.path.join(folder_path, ext)\n",
    "            os.makedirs(dest_folder, exist_ok=True)\n",
    "            shutil.move(file_path, os.path.join(dest_folder, filename))\n"
   ],
   "id": "3205973b1a756c39",
   "outputs": [],
   "execution_count": 3
  },
  {
   "metadata": {
    "ExecuteTime": {
     "end_time": "2025-07-16T11:00:35.537190Z",
     "start_time": "2025-07-16T11:00:35.526755Z"
    }
   },
   "cell_type": "code",
   "source": "organize_files(\"C:/Users/Monika/Downloads\")",
   "id": "82958269cbca0c",
   "outputs": [],
   "execution_count": 5
  }
 ],
 "metadata": {
  "kernelspec": {
   "display_name": "Python 3",
   "language": "python",
   "name": "python3"
  },
  "language_info": {
   "codemirror_mode": {
    "name": "ipython",
    "version": 2
   },
   "file_extension": ".py",
   "mimetype": "text/x-python",
   "name": "python",
   "nbconvert_exporter": "python",
   "pygments_lexer": "ipython2",
   "version": "2.7.6"
  }
 },
 "nbformat": 4,
 "nbformat_minor": 5
}
